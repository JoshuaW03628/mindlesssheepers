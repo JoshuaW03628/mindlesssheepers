{
 "cells": [
  {
   "cell_type": "markdown",
   "metadata": {},
   "source": [
    "# 3.9 and 3.11 Homework Answers\n",
    "> 3.9/3.11 HW answer key\n",
    "\n",
    "- layout: default\n",
    "- toc: true\n",
    "- badges: false\n",
    "- comments: true\n",
    "- permalink: /answer\n",
    "- categories: [answer]"
   ]
  },
  {
   "cell_type": "code",
   "execution_count": null,
   "metadata": {},
   "outputs": [],
   "source": [
    "\n",
    "# FLOWCHART LINK HERE\n",
    "\n",
    "import random # allows the program to generate random numbers\n",
    "\n",
    "score = 0\n",
    "iterate = 0\n",
    "\n",
    "while (iterate < 3):\n",
    "    var1 = random.randint(1, 20)\n",
    "    if (var1 >= score):\n",
    "        score = var1\n",
    "    iterate = iterate + 1\n",
    "else:\n",
    "    print(f\"Your score is {score}\")"
   ]
  }
 ],
 "metadata": {
  "kernelspec": {
   "display_name": "Python 3.9.12 ('base')",
   "language": "python",
   "name": "python3"
  },
  "language_info": {
   "codemirror_mode": {
    "name": "ipython",
    "version": 3
   },
   "file_extension": ".py",
   "mimetype": "text/x-python",
   "name": "python",
   "nbconvert_exporter": "python",
   "pygments_lexer": "ipython3",
   "version": "3.9.12"
  },
  "orig_nbformat": 4,
  "vscode": {
   "interpreter": {
    "hash": "ae7fc39f2ab8b5e6c06b0790456dedf53b90368befc1590efd56e212a30b3916"
   }
  }
 },
 "nbformat": 4,
 "nbformat_minor": 2
}
